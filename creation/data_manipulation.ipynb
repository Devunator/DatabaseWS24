{
 "cells": [
  {
   "cell_type": "code",
   "execution_count": 2,
   "id": "83d93187-dce0-45c6-b394-d97661f8b22c",
   "metadata": {},
   "outputs": [],
   "source": [
    "import pandas as pd"
   ]
  },
  {
   "cell_type": "code",
   "execution_count": 64,
   "id": "742eb84d-6d75-4c05-8f13-7519b7fa4797",
   "metadata": {},
   "outputs": [
    {
     "name": "stderr",
     "output_type": "stream",
     "text": [
      "C:\\Users\\david\\AppData\\Local\\Temp\\ipykernel_26600\\3013049099.py:41: SettingWithCopyWarning: \n",
      "A value is trying to be set on a copy of a slice from a DataFrame.\n",
      "Try using .loc[row_indexer,col_indexer] = value instead\n",
      "\n",
      "See the caveats in the documentation: https://pandas.pydata.org/pandas-docs/stable/user_guide/indexing.html#returning-a-view-versus-a-copy\n",
      "  dataframe_company[\"cid\"] = dataframe_company[\"company\"].map(company_id)\n"
     ]
    }
   ],
   "source": [
    "dataframe = pd.read_csv(\"movies.csv\")\n",
    "\n",
    "# first we drop all rows where important NOT NULL values are actually empty\n",
    "non_na_columns = [\"name\", \"score\", \"director\", \"writer\", \"star\", \"budget\", \"gross\", \"company\"]\n",
    "dataframe = dataframe.dropna(subset=non_na_columns)\n",
    "\n",
    "# then we begin creating the actual tables\n",
    "dataframe_movie = dataframe\n",
    "\n",
    "# converting the star to its own table, and filling the movie table with their primary key (ID)\n",
    "unique_stars = dataframe[\"star\"].unique()\n",
    "star_id = {star: idx for idx, star in enumerate(unique_stars, start=1)}\n",
    "dataframe_movie[\"star\"] = dataframe_movie[\"star\"].map(star_id)\n",
    "dataframe_star = pd.DataFrame(list(star_id.items()), columns=[\"star\", \"sid\"])\n",
    "\n",
    "# converting the director to its own table, and filling the movie table with their primary key (ID)\n",
    "unique_directors = dataframe[\"director\"].unique()\n",
    "director_id = {director: idx for idx, director in enumerate(unique_directors, start=1)}\n",
    "dataframe_movie[\"director\"] = dataframe_movie[\"director\"].map(director_id)\n",
    "dataframe_director = pd.DataFrame(list(director_id.items()), columns=[\"director\", \"did\"])\n",
    "\n",
    "# converting the writer to its own table, and filling the movie table with their primary key (ID)\n",
    "unique_writers = dataframe[\"writer\"].unique()\n",
    "writer_id = {writer: idx for idx, writer in enumerate(unique_writers, start=1)}\n",
    "dataframe_movie[\"writer\"] = dataframe_movie[\"writer\"].map(writer_id)\n",
    "dataframe_writer = pd.DataFrame(list(writer_id.items()), columns=[\"writer\", \"wid\"])\n",
    "\n",
    "# to convert the company to its own table we have to do a bit of a workaround, first the copy the company and its country\n",
    "dataframe_company = dataframe[[\"company\", 'country']]\n",
    "\n",
    "# then we set the IDs in the movie table as always\n",
    "unique_companies = dataframe[\"company\"].unique()\n",
    "company_id = {company: idx for idx, company in enumerate(unique_companies, start=1)}\n",
    "dataframe_movie[\"company\"] = dataframe_movie[\"company\"].map(company_id)\n",
    "dataframe_movie = dataframe_movie.drop(columns=[\"country\"])\n",
    "\n",
    "# now we add the IDs to the company table and drop duplicates. \n",
    "# this approach works, because after passing columns from on df to another, they are in the same order\n",
    "unique_companies = dataframe_company[\"company\"].unique()\n",
    "company_id = {company: idx for idx, company in enumerate(unique_companies, start=1)}\n",
    "dataframe_company[\"cid\"] = dataframe_company[\"company\"].map(company_id)\n",
    "dataframe_company = dataframe_company.drop_duplicates(subset=[\"company\", \"cid\"], keep='first')\n",
    "\n",
    "# finally, the movies also get IDs\n",
    "dataframe_movie['mid'] = range(1, len(dataframe_movie) + 1)\n",
    "\n",
    "# now we rearrange the columns so that our IDs are the first column as a good Primary Key should be\n",
    "dataframe_movie = dataframe_movie[[dataframe_movie.columns[-1]] + list(dataframe_movie.columns[:-1])]\n",
    "dataframe_star = dataframe_star[[dataframe_star.columns[-1]] + list(dataframe_star.columns[:-1])]\n",
    "dataframe_writer = dataframe_writer[[dataframe_writer.columns[-1]] + list(dataframe_writer.columns[:-1])]\n",
    "dataframe_director = dataframe_director[[dataframe_director.columns[-1]] + list(dataframe_director.columns[:-1])]\n",
    "dataframe_company = dataframe_company[[dataframe_company.columns[-1]] + list(dataframe_company.columns[:-1])]\n",
    "\n",
    "# and now, we create new csv files to load them into our database\n",
    "\n",
    "dataframe_movie.to_csv(\"movie_table.csv\", index=False)\n",
    "dataframe_star.to_csv(\"star_table.csv\", index=False)\n",
    "dataframe_director.to_csv(\"director_table.csv\", index=False)\n",
    "dataframe_writer.to_csv(\"writer_table.csv\", index=False)\n",
    "dataframe_company.to_csv(\"company_table.csv\", index=False)"
   ]
  }
 ],
 "metadata": {
  "kernelspec": {
   "display_name": "Python 3 (ipykernel)",
   "language": "python",
   "name": "python3"
  },
  "language_info": {
   "codemirror_mode": {
    "name": "ipython",
    "version": 3
   },
   "file_extension": ".py",
   "mimetype": "text/x-python",
   "name": "python",
   "nbconvert_exporter": "python",
   "pygments_lexer": "ipython3",
   "version": "3.12.6"
  }
 },
 "nbformat": 4,
 "nbformat_minor": 5
}
